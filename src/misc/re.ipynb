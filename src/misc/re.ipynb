{
 "cells": [
  {
   "cell_type": "code",
   "execution_count": 15,
   "metadata": {
    "collapsed": false
   },
   "outputs": [
    {
     "name": "stdout",
     "output_type": "stream",
     "text": [
      "<_sre.SRE_Match object at 0x105d87308>\n",
      "None\n",
      "apple\n"
     ]
    }
   ],
   "source": [
    "import re\n",
    "\n",
    "print re.search('apple', 'apple')\n",
    "print re.search('apple', 'orange')\n",
    "\n",
    "match = re.search('apple', 'apple')\n",
    "if match:\n",
    "    print match.group() "
   ]
  },
  {
   "cell_type": "code",
   "execution_count": 12,
   "metadata": {
    "collapsed": false
   },
   "outputs": [
    {
     "name": "stdout",
     "output_type": "stream",
     "text": [
      "<_sre.SRE_Match object at 0x105d87238>\n",
      "None\n"
     ]
    }
   ],
   "source": [
    "import re\n",
    "print re.search('apple', '1apple') #re.search 从字符串中查找, 任意位置开始都可以\n",
    "print re.match('apple', '1apple') #re.match 只从字符串开始匹配"
   ]
  },
  {
   "cell_type": "code",
   "execution_count": 13,
   "metadata": {
    "collapsed": false
   },
   "outputs": [
    {
     "name": "stdout",
     "output_type": "stream",
     "text": [
      "['a', 'a']\n"
     ]
    }
   ],
   "source": [
    "print re.findall('a', 'abdcai') #re.findall 返回一个列表"
   ]
  },
  {
   "cell_type": "code",
   "execution_count": 16,
   "metadata": {
    "collapsed": false
   },
   "outputs": [
    {
     "name": "stdout",
     "output_type": "stream",
     "text": [
      "apple\n"
     ]
    }
   ],
   "source": [
    "ex = re.compile('apple') # re.compile 可用于复用正则表达式\n",
    "\n",
    "match = re.search(ex, 'apple') \n",
    "if match:\n",
    "    print match.group() "
   ]
  },
  {
   "cell_type": "code",
   "execution_count": 22,
   "metadata": {
    "collapsed": false
   },
   "outputs": [
    {
     "name": "stdout",
     "output_type": "stream",
     "text": [
      "['apple', 'aplle']\n",
      "['apple aplle apllo']\n",
      "['ap', 'ap', 'ap']\n",
      "['apple ', 'aplle ']\n"
     ]
    }
   ],
   "source": [
    "print re.findall('ap..e', 'apple aplle apllo')\n",
    "print re.findall('ap.*', 'apple aplle apllo') # *是贪婪匹配, 会直接匹配整行\n",
    "print re.findall('ap.*?', 'apple aplle apllo') # 加上?之后则最少匹配了\n",
    "print re.findall('ap.*? ', 'apple aplle apllo') # 加上?和 空格"
   ]
  },
  {
   "cell_type": "code",
   "execution_count": 23,
   "metadata": {
    "collapsed": false
   },
   "outputs": [
    {
     "name": "stdout",
     "output_type": "stream",
     "text": [
      "['aplle']\n",
      "['app\\ne', 'aplle']\n"
     ]
    }
   ],
   "source": [
    "print re.findall('ap..e', 'app\\ne aplle apllo')\n",
    "print re.findall('ap..e', 'app\\ne aplle apllo', flags=re.S)"
   ]
  },
  {
   "cell_type": "code",
   "execution_count": 29,
   "metadata": {
    "collapsed": false
   },
   "outputs": [
    {
     "name": "stdout",
     "output_type": "stream",
     "text": [
      "['player 162 action fold\\n', 'player 162 action check\\n']\n",
      "['fold\\n', 'check\\n']\n"
     ]
    }
   ],
   "source": [
    "i = 'player 162 action fold\\nplayer 162 action check\\n'\n",
    "actions = re.findall('player 162 action .*?\\n', i, flags=re.S)\n",
    "print actions\n",
    "\n",
    "actions = re.findall('(?<=player 162 action ).*?\\n', i, flags=re.S)\n",
    "print actions"
   ]
  },
  {
   "cell_type": "code",
   "execution_count": null,
   "metadata": {
    "collapsed": true
   },
   "outputs": [],
   "source": []
  }
 ],
 "metadata": {
  "kernelspec": {
   "display_name": "Python 2",
   "language": "python",
   "name": "python2"
  },
  "language_info": {
   "codemirror_mode": {
    "name": "ipython",
    "version": 2
   },
   "file_extension": ".py",
   "mimetype": "text/x-python",
   "name": "python",
   "nbconvert_exporter": "python",
   "pygments_lexer": "ipython2",
   "version": "2.7.6"
  }
 },
 "nbformat": 4,
 "nbformat_minor": 0
}
